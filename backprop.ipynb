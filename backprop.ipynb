{
 "cells": [
  {
   "cell_type": "code",
   "execution_count": 1,
   "id": "9a3ec2bb",
   "metadata": {},
   "outputs": [],
   "source": [
    "def forward(w,s,b,y):\n",
    "    Yhat= w * s + b\n",
    "    output = (Yhat-y)**2\n",
    "    return output, Yhat\n",
    "\n",
    "def derivative_W(x, output, Yhat, y):\n",
    "    return ((2 * output) * (Yhat - y)) * x # w\n",
    "\n",
    "def derivative_B(b, output, Yhat, y):\n",
    "    return ((2 * output) * (Yhat - y)) * b #bias"
   ]
  },
  {
   "cell_type": "code",
   "execution_count": 11,
   "id": "0a15baa7",
   "metadata": {},
   "outputs": [
    {
     "name": "stdout",
     "output_type": "stream",
     "text": [
      "-----------------------------------------------------------------------------\n",
      "w: 1.0\n",
      "\tw*b: 2.0\n",
      "x: 2.0 \t\tsum: 3.0\n",
      "\tb: 1.0 \t\t\tg1: 1.0 \tg2: 1.0 \tloss: 1.0\n",
      "\t\tY=2*x: 4.0\n",
      "-----------------------------------------------------------------------------\n",
      "-----------------------------------------------------------------------------\n",
      "w: 1.4\n",
      "\tw*b: 2.8\n",
      "x: 2.0 \t\tsum: 4.0\n",
      "\tb: 1.2 \t\t\tg1: 0.0 \tg2: 0.0 \tloss: 0.0\n",
      "\t\tY=2*x: 4.0\n",
      "-----------------------------------------------------------------------------\n"
     ]
    }
   ],
   "source": [
    "w = 1.0   #weight\n",
    "x = 2.0   #sample\n",
    "b = 1.0   #bias\n",
    "y = 2.0*x #rule\n",
    "\n",
    "learning = 1e-1 # 0.1\n",
    "epoch = 1\n",
    "\n",
    "for i in range(epoch+1):\n",
    "\n",
    "    output, Yhat = forward(w,x,b,y)\n",
    "    print(\"-----------------------------------------------------------------------------\")\n",
    "    print(\"w:\",w)\n",
    "    print(\"\\tw*b:\",w*x)\n",
    "    print(\"x:\",x,\"\\t\\tsum:\", w*x+b)\n",
    "    print(\"\\tb:\",b,\"\\t\\t\\tg1:\",abs(Yhat-y),\"\\tg2:\",abs(Yhat-y)**2,\"\\tloss:\",output)\n",
    "    print(\"\\t\\tY=2*x:\", y)\n",
    "    print(\"-----------------------------------------------------------------------------\")\n",
    "\n",
    "    if output == 0.0:\n",
    "        break\n",
    "\n",
    "    gw = derivative_W(x, output, Yhat, y)\n",
    "    gb = derivative_B(b, output, Yhat, y)\n",
    "    w -= learning * gw\n",
    "    b -= learning * gb"
   ]
  },
  {
   "cell_type": "code",
   "execution_count": null,
   "id": "ebca4cb8",
   "metadata": {},
   "outputs": [],
   "source": []
  }
 ],
 "metadata": {
  "kernelspec": {
   "display_name": "Python 3",
   "language": "python",
   "name": "python3"
  },
  "language_info": {
   "codemirror_mode": {
    "name": "ipython",
    "version": 3
   },
   "file_extension": ".py",
   "mimetype": "text/x-python",
   "name": "python",
   "nbconvert_exporter": "python",
   "pygments_lexer": "ipython3",
   "version": "3.7.0"
  }
 },
 "nbformat": 4,
 "nbformat_minor": 5
}
